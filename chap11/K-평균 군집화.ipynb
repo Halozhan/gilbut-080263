{
 "cells": [
  {
   "cell_type": "code",
   "execution_count": 1,
   "metadata": {},
   "outputs": [
    {
     "name": "stderr",
     "output_type": "stream",
     "text": [
      "2024-12-03 02:38:10.583629: E external/local_xla/xla/stream_executor/cuda/cuda_fft.cc:477] Unable to register cuFFT factory: Attempting to register factory for plugin cuFFT when one has already been registered\n",
      "WARNING: All log messages before absl::InitializeLog() is called are written to STDERR\n",
      "E0000 00:00:1733161090.593556  273559 cuda_dnn.cc:8310] Unable to register cuDNN factory: Attempting to register factory for plugin cuDNN when one has already been registered\n",
      "E0000 00:00:1733161090.596527  273559 cuda_blas.cc:1418] Unable to register cuBLAS factory: Attempting to register factory for plugin cuBLAS when one has already been registered\n",
      "2024-12-03 02:38:10.607345: I tensorflow/core/platform/cpu_feature_guard.cc:210] This TensorFlow binary is optimized to use available CPU instructions in performance-critical operations.\n",
      "To enable the following instructions: AVX2 FMA, in other operations, rebuild TensorFlow with the appropriate compiler flags.\n"
     ]
    }
   ],
   "source": [
    "# 코드 11-1 라이브러리 호출\n",
    "import numpy as np\n",
    "import tensorflow as tf\n",
    "import matplotlib.pyplot as plt\n",
    "from sklearn.cluster import KMeans\n",
    "# 앞서 설치한 opencv-python 라이브러리를 호출\n",
    "from sklearn.metrics import (\n",
    "    silhouette_score,\n",
    ")\n",
    "import os, glob, shutil"
   ]
  },
  {
   "cell_type": "code",
   "execution_count": 2,
   "metadata": {},
   "outputs": [
    {
     "name": "stdout",
     "output_type": "stream",
     "text": [
      "1 Physical GPUs, 1 Logical GPUs\n"
     ]
    },
    {
     "name": "stderr",
     "output_type": "stream",
     "text": [
      "I0000 00:00:1733161092.329583  273559 gpu_device.cc:2022] Created device /job:localhost/replica:0/task:0/device:GPU:0 with 6687 MB memory:  -> device: 0, name: NVIDIA GeForce GTX 1080, pci bus id: 0000:0a:00.0, compute capability: 6.1\n"
     ]
    }
   ],
   "source": [
    "# 코드 11-2 GPU 설정\n",
    "# cuDNN 초기화에 문제가 있을 때 실행\n",
    "gpus = tf.config.experimental.list_physical_devices(\"GPU\")\n",
    "if gpus:\n",
    "    try:\n",
    "        # GPU가 두 개 이상이라면 메모리를 균등하게 사용하도록 조정\n",
    "        for gpu in gpus:\n",
    "            tf.config.experimental.set_memory_growth(gpu, True)\n",
    "        logical_gpus = tf.config.experimental.list_logical_devices(\"GPU\")\n",
    "        # 물리적 GPU와 논리적 GPU의 수량을 표기\n",
    "        print(len(gpus), \"Physical GPUs,\", len(logical_gpus), \"Logical GPUs\")\n",
    "\n",
    "    except RuntimeError as e:\n",
    "        print(e)"
   ]
  },
  {
   "cell_type": "code",
   "execution_count": 3,
   "metadata": {},
   "outputs": [],
   "source": [
    "# 코드 11-3 데이터셋 준비\n",
    "import cv2\n",
    "\n",
    "input_dir = \"data/pets\"\n",
    "glob_dir = input_dir + \"/*.jpg\"\n",
    "\n",
    "images = [cv2.resize(cv2.imread(file), (224, 224)) for file in glob.glob(glob_dir)]\n",
    "paths = [file for file in glob.glob(glob_dir)]\n",
    "images = np.array(np.float32(images).reshape(len(images), -1) / 255)"
   ]
  },
  {
   "cell_type": "code",
   "execution_count": 4,
   "metadata": {},
   "outputs": [
    {
     "name": "stderr",
     "output_type": "stream",
     "text": [
      "WARNING: All log messages before absl::InitializeLog() is called are written to STDERR\n",
      "I0000 00:00:1733161094.331861  273641 service.cc:148] XLA service 0x7f260430f380 initialized for platform CUDA (this does not guarantee that XLA will be used). Devices:\n",
      "I0000 00:00:1733161094.331898  273641 service.cc:156]   StreamExecutor device (0): NVIDIA GeForce GTX 1080, Compute Capability 6.1\n",
      "2024-12-03 02:38:14.352107: I tensorflow/compiler/mlir/tensorflow/utils/dump_mlir_util.cc:268] disabling MLIR crash reproducer, set env var `MLIR_CRASH_REPRODUCER_DIRECTORY` to enable.\n",
      "I0000 00:00:1733161094.555103  273641 cuda_dnn.cc:529] Loaded cuDNN version 90300\n"
     ]
    },
    {
     "name": "stdout",
     "output_type": "stream",
     "text": [
      "\u001b[1m1/2\u001b[0m \u001b[32m━━━━━━━━━━\u001b[0m\u001b[37m━━━━━━━━━━\u001b[0m \u001b[1m3s\u001b[0m 4s/step"
     ]
    },
    {
     "name": "stderr",
     "output_type": "stream",
     "text": [
      "I0000 00:00:1733161097.545823  273641 device_compiler.h:188] Compiled cluster using XLA!  This line is logged at most once for the lifetime of the process.\n"
     ]
    },
    {
     "name": "stdout",
     "output_type": "stream",
     "text": [
      "\u001b[1m2/2\u001b[0m \u001b[32m━━━━━━━━━━━━━━━━━━━━\u001b[0m\u001b[37m\u001b[0m \u001b[1m7s\u001b[0m 3s/step\n"
     ]
    }
   ],
   "source": [
    "# 코드 11-4 특성 추출\n",
    "model = tf.keras.applications.MobileNetV2(\n",
    "    include_top=False, weights=\"imagenet\", input_shape=(224, 224, 3)\n",
    ")\n",
    "predictions = model.predict(images.reshape(-1, 224, 224, 3))\n",
    "pred_images = predictions.reshape(images.shape[0], -1)"
   ]
  },
  {
   "cell_type": "code",
   "execution_count": 8,
   "metadata": {},
   "outputs": [],
   "source": [
    "# 코드 11-5 클러스터링 구성\n",
    "k = 2  # 클래스는 개와 고양이 두 개\n",
    "kmodel = KMeans(n_clusters=k, random_state=728)\n",
    "kmodel.fit(pred_images)  # 모델 훈련\n",
    "kpredictions = kmodel.predict(pred_images)  # 모델 예측\n",
    "shutil.rmtree(\"data/output\")  # 모델이 분류될 폴더의 위치 지정\n",
    "for i in range(k):\n",
    "    # 모델이 분류될 폴더를 생성(output0, output1이 생성)\n",
    "    os.makedirs(\"data/output\" + str(i))\n",
    "for i in range(len(paths)):\n",
    "    # pets 폴더의 이미지들이 output0과 output1로 복사되면서 클래스에 적합하게 분류\n",
    "    shutil.copy2(paths[i], \"data/output\" + str(kpredictions[i]))"
   ]
  },
  {
   "cell_type": "code",
   "execution_count": 9,
   "metadata": {},
   "outputs": [],
   "source": [
    "# 코드 11-6 KMeans에서 클래스 개수 알아보기\n",
    "sil = []\n",
    "kl = []\n",
    "kmax = 10\n",
    "for k in range(2, kmax + 1):\n",
    "    kmeans2 = KMeans(n_clusters=k).fit(pred_images)\n",
    "    labels = kmeans2.labels_\n",
    "    # 실루엣 방법을 이용한 클래스 개수 확인\n",
    "    sil.append(silhouette_score(pred_images, labels, metric=\"euclidean\"))\n",
    "    kl.append(k)"
   ]
  },
  {
   "cell_type": "code",
   "execution_count": 10,
   "metadata": {},
   "outputs": [
    {
     "data": {
      "image/png": "[encoded data removed]",
      "text/plain": [
       "<Figure size 640x480 with 1 Axes>"
      ]
     },
     "metadata": {},
     "output_type": "display_data"
    }
   ],
   "source": [
    "# 코드 11-7 실루엣의 시각화\n",
    "plt.plot(kl, sil)\n",
    "plt.ylabel(\"Silhoutte Score\")\n",
    "plt.ylabel(\"K\")\n",
    "plt.show()"
   ]
  }
 ],
 "metadata": {
  "kernelspec": {
   "display_name": ".venv",
   "language": "python",
   "name": "python3"
  },
  "language_info": {
   "codemirror_mode": {
    "name": "ipython",
    "version": 3
   },
   "file_extension": ".py",
   "mimetype": "text/x-python",
   "name": "python",
   "nbconvert_exporter": "python",
   "pygments_lexer": "ipython3",
   "version": "3.10.12"
  }
 },
 "nbformat": 4,
 "nbformat_minor": 2
}
