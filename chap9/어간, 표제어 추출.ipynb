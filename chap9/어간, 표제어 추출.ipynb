{
 "cells": [
  {
   "cell_type": "code",
   "execution_count": 1,
   "metadata": {},
   "outputs": [
    {
     "name": "stdout",
     "output_type": "stream",
     "text": [
      "obsess obsses\n",
      "standard standard\n",
      "nation nation\n",
      "absent absent\n",
      "tribal tribalic\n"
     ]
    }
   ],
   "source": [
    "# 코드 9-24 포터 알고리즘\n",
    "from nltk.stem import PorterStemmer\n",
    "\n",
    "stemmer = PorterStemmer()\n",
    "\n",
    "print(stemmer.stem(\"obsesses\"), stemmer.stem(\"obssesed\"))\n",
    "print(stemmer.stem(\"standardizes\"), stemmer.stem(\"standardization\"))\n",
    "print(stemmer.stem(\"national\"), stemmer.stem(\"nation\"))\n",
    "print(stemmer.stem(\"absentness\"), stemmer.stem(\"absently\"))\n",
    "print(stemmer.stem(\"tribalical\"), stemmer.stem(\"tribalicalized\"))  # 사전에 없는 단어"
   ]
  },
  {
   "cell_type": "code",
   "execution_count": 2,
   "metadata": {},
   "outputs": [
    {
     "name": "stdout",
     "output_type": "stream",
     "text": [
      "obsess obsess\n",
      "standard standard\n",
      "nat nat\n",
      "abs abs\n",
      "trib trib\n"
     ]
    }
   ],
   "source": [
    "# 코드 9-25 랭커스터 알고리즘\n",
    "from nltk.stem import LancasterStemmer\n",
    "\n",
    "stemmer = LancasterStemmer()\n",
    "print(stemmer.stem(\"obsesses\"), stemmer.stem(\"obsessed\"))\n",
    "print(stemmer.stem(\"standardizes\"), stemmer.stem(\"standardization\"))\n",
    "print(stemmer.stem(\"national\"), stemmer.stem(\"nation\"))\n",
    "print(stemmer.stem(\"absentness\"), stemmer.stem(\"absently\"))\n",
    "print(stemmer.stem(\"tribalical\"), stemmer.stem(\"tribalicalized\"))  # 사전에 없는 단어"
   ]
  },
  {
   "cell_type": "code",
   "execution_count": 3,
   "metadata": {},
   "outputs": [
    {
     "name": "stderr",
     "output_type": "stream",
     "text": [
      "[nltk_data] Downloading package wordnet to /home/halozhan/nltk_data...\n",
      "[nltk_data]   Package wordnet is already up-to-date!\n"
     ]
    },
    {
     "name": "stdout",
     "output_type": "stream",
     "text": [
      "obsess obsess\n",
      "standardizes standardization\n",
      "national nation\n",
      "absentness absently\n",
      "tribalical tribalicalized\n"
     ]
    }
   ],
   "source": [
    "# 코드 9-26 표제어 추출\n",
    "import nltk\n",
    "\n",
    "nltk.download(\"wordnet\")\n",
    "\n",
    "from nltk.stem import WordNetLemmatizer  # 표제어 추출 라이브러리\n",
    "\n",
    "lemma = WordNetLemmatizer()\n",
    "\n",
    "print(stemmer.stem(\"obsesses\"), stemmer.stem(\"obsessed\"))\n",
    "print(lemma.lemmatize(\"standardizes\"), lemma.lemmatize(\"standardization\"))\n",
    "print(lemma.lemmatize(\"national\"), lemma.lemmatize(\"nation\"))\n",
    "print(lemma.lemmatize(\"absentness\"), lemma.lemmatize(\"absently\"))\n",
    "print(lemma.lemmatize(\"tribalical\"), lemma.lemmatize(\"tribalicalized\"))"
   ]
  },
  {
   "cell_type": "code",
   "execution_count": 4,
   "metadata": {},
   "outputs": [
    {
     "name": "stdout",
     "output_type": "stream",
     "text": [
      "obsess obsess\n",
      "standardize standardization\n",
      "national nation\n",
      "absentness absently\n",
      "tribalical tribalicalized\n"
     ]
    }
   ],
   "source": [
    "# 코드 9-27 품사 정보가 추가된 표제어 추출\n",
    "print(lemma.lemmatize(\"obsesses\", \"v\"), lemma.lemmatize(\"obsessed\", \"v\"))\n",
    "print(lemma.lemmatize(\"standardizes\", \"v\"), lemma.lemmatize(\"standardization\", \"n\"))\n",
    "print(lemma.lemmatize(\"national\", \"a\"), lemma.lemmatize(\"nation\", \"n\"))\n",
    "print(lemma.lemmatize(\"absentness\", \"n\"), lemma.lemmatize(\"absently\", \"r\"))\n",
    "print(lemma.lemmatize(\"tribalical\", \"a\"), lemma.lemmatize(\"tribalicalized\", \"v\"))"
   ]
  }
 ],
 "metadata": {
  "kernelspec": {
   "display_name": ".venv",
   "language": "python",
   "name": "python3"
  },
  "language_info": {
   "codemirror_mode": {
    "name": "ipython",
    "version": 3
   },
   "file_extension": ".py",
   "mimetype": "text/x-python",
   "name": "python",
   "nbconvert_exporter": "python",
   "pygments_lexer": "ipython3",
   "version": "3.10.12"
  }
 },
 "nbformat": 4,
 "nbformat_minor": 2
}
